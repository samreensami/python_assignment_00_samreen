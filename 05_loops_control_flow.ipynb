{
  "nbformat": 4,
  "nbformat_minor": 0,
  "metadata": {
    "colab": {
      "provenance": [],
      "authorship_tag": "ABX9TyNntC4UPmYubswSCAJxDraz",
      "include_colab_link": true
    },
    "kernelspec": {
      "name": "python3",
      "display_name": "Python 3"
    },
    "language_info": {
      "name": "python"
    }
  },
  "cells": [
    {
      "cell_type": "markdown",
      "metadata": {
        "id": "view-in-github",
        "colab_type": "text"
      },
      "source": [
        "<a href=\"https://colab.research.google.com/github/samreensami/python_assignment_00_samreen/blob/main/05_loops_control_flow.ipynb\" target=\"_parent\"><img src=\"https://colab.research.google.com/assets/colab-badge.svg\" alt=\"Open In Colab\"/></a>"
      ]
    },
    {
      "cell_type": "code",
      "execution_count": null,
      "metadata": {
        "colab": {
          "base_uri": "https://localhost:8080/"
        },
        "id": "FjIiScg8VDNk",
        "outputId": "8222791a-cd33-4521-b030-602f82e2143d"
      },
      "outputs": [
        {
          "output_type": "stream",
          "name": "stdout",
          "text": [
            "guess_my_number\n",
            "🎯 Welcome to the 'Guess My Number' Game!\n",
            "I'm thinking of a number between 1 and 100.\n",
            "Type 'exit' anytime to quit the game.\n",
            "\n",
            "Enter a guess (or type 'exit' to quit): 65\n",
            "📈 Your guess is too high.\n",
            "\n",
            "Enter a guess (or type 'exit' to quit): 44\n",
            "📉 Your guess is too low.\n",
            "\n",
            "Enter a guess (or type 'exit' to quit): 76\n",
            "📈 Your guess is too high.\n",
            "\n",
            "Enter a guess (or type 'exit' to quit): 35\n",
            "📉 Your guess is too low.\n",
            "\n",
            "Enter a guess (or type 'exit' to quit): 52\n",
            "📈 Your guess is too high.\n",
            "\n",
            "Enter a guess (or type 'exit' to quit): exit\n",
            "👋 You chose to exit. Goodbye!\n"
          ]
        }
      ],
      "source": [
        "print(\"guess_my_number\")\n",
        "\n",
        "import random\n",
        "\n",
        "def main():\n",
        "    print(\"🎯 Welcome to the 'Guess My Number' Game!\")\n",
        "    print(\"I'm thinking of a number between 1 and 100.\")\n",
        "    print(\"Type 'exit' anytime to quit the game.\\n\")\n",
        "\n",
        "    secret_number = random.randint(1, 100)\n",
        "\n",
        "    while True:\n",
        "        guess = input(\"Enter a guess (or type 'exit' to quit): \")\n",
        "\n",
        "        if guess.lower() == \"exit\":\n",
        "            print(\"👋 You chose to exit. Goodbye!\")\n",
        "            break\n",
        "\n",
        "        if not guess.isdigit():\n",
        "            print(\"❌ Please enter a valid number.\")\n",
        "            continue\n",
        "\n",
        "        guess = int(guess)\n",
        "\n",
        "        if guess < secret_number:\n",
        "            print(\"📉 Your guess is too low.\\n\")\n",
        "        elif guess > secret_number:\n",
        "            print(\"📈 Your guess is too high.\\n\")\n",
        "        else:\n",
        "            print(f\"🎉 Congratulations! The number was {secret_number}.\\n\")\n",
        "            break\n",
        "\n",
        "if __name__ == \"__main__\":\n",
        "    main()\n",
        "\n"
      ]
    },
    {
      "cell_type": "code",
      "source": [
        "print(\"01_fibonacci\")\n",
        "\n",
        "max_value = 10000\n",
        "def main():\n",
        "  a,b = 0,1\n",
        "  while a < max_value:\n",
        "    print(a,end = ' ')\n",
        "    a,b = b,a+b\n",
        "  print()\n",
        "\n",
        "if __name__ == \"__main__\":\n",
        "  main()\n",
        "\n"
      ],
      "metadata": {
        "colab": {
          "base_uri": "https://localhost:8080/"
        },
        "id": "KkpoFw5a1zpp",
        "outputId": "3deb2f68-e105-452a-a06c-0e2a20487265"
      },
      "execution_count": null,
      "outputs": [
        {
          "output_type": "stream",
          "name": "stdout",
          "text": [
            "01_fibonacci\n",
            "0 1 1 2 3 5 8 13 21 34 55 89 144 233 377 610 987 1597 2584 4181 6765 \n"
          ]
        }
      ]
    },
    {
      "cell_type": "code",
      "source": [
        "print(\"02_print_event\")\n",
        "\n",
        "def main():\n",
        "  for i in range(20):\n",
        "    print(i,end = ' ')\n",
        "  print()\n",
        "\n",
        "if __name__ == \"__main__\":\n",
        "  main()\n"
      ],
      "metadata": {
        "colab": {
          "base_uri": "https://localhost:8080/"
        },
        "id": "IdJBjsQ8N83b",
        "outputId": "06e97692-f64f-4104-ccc1-7fc7d57e43b2"
      },
      "execution_count": null,
      "outputs": [
        {
          "output_type": "stream",
          "name": "stdout",
          "text": [
            "02_print_event\n",
            "0 1 2 3 4 5 6 7 8 9 10 11 12 13 14 15 16 17 18 19 \n"
          ]
        }
      ]
    },
    {
      "cell_type": "code",
      "source": [
        "print(\"03_wholesome_machine 🚴‍♂️\")\n",
        "\n",
        "correct_information = \"I am capable of doing anything. I put my mind too.\"\n",
        "\n",
        "def main():\n",
        "\n",
        "  print(\"Welcome to the Wholesome Machine!\")\n",
        "  while True:\n",
        "    user_input = input(\"Please type the following information: \"+ correct_information)\n",
        "    if user_input == correct_information:\n",
        "      print(\"Correct!\")\n",
        "      break\n",
        "    else:\n",
        "      print(\"Incorrect. Please try again.\")\n",
        "\n",
        "if __name__ == \"__main__\":\n",
        "  main()"
      ],
      "metadata": {
        "colab": {
          "base_uri": "https://localhost:8080/"
        },
        "id": "IfDAPWlCwZqz",
        "outputId": "c976dfa6-e626-41c5-f455-a52bb5c719ec"
      },
      "execution_count": null,
      "outputs": [
        {
          "output_type": "stream",
          "name": "stdout",
          "text": [
            "03_wholesome_machine 🚴‍♂️\n",
            "Welcome to the Wholesome Machine!\n",
            "Please type the following information: I am capable of doing anything. I put my mind too.helo\n",
            "Incorrect. Please try again.\n",
            "Please type the following information: I am capable of doing anything. I put my mind too.I am capable of doing anything. I put my mind too.\n",
            "Correct!\n"
          ]
        }
      ]
    },
    {
      "cell_type": "code",
      "source": [
        "print(\"04_liftoff\")\n",
        "\n",
        "def main():\n",
        "  for i in range(10,0,-1):\n",
        "    print(i)\n",
        "  print(\"Liftoff!🚀 \")\n",
        "\n",
        "if __name__ == \"__main__\":\n",
        "  main()"
      ],
      "metadata": {
        "colab": {
          "base_uri": "https://localhost:8080/"
        },
        "id": "Hf6RmbF4Wdcg",
        "outputId": "faec69d9-25b3-4858-ee12-c63a37f42553"
      },
      "execution_count": null,
      "outputs": [
        {
          "output_type": "stream",
          "name": "stdout",
          "text": [
            "04_liftoff\n",
            "10\n",
            "9\n",
            "8\n",
            "7\n",
            "6\n",
            "5\n",
            "4\n",
            "3\n",
            "2\n",
            "1\n",
            "Liftoff!🚀 \n"
          ]
        }
      ]
    },
    {
      "cell_type": "code",
      "source": [
        "print(\"04_double_it\")\n",
        "\n",
        "def main():\n",
        "    user_value = int(input(\"Enter a value: \"))\n",
        "    while user_value < 100:\n",
        "        user_value = user_value * 2\n",
        "        print(user_value)\n",
        "\n",
        "\n",
        "if __name__ == \"__main__\":\n",
        "    main()\n"
      ],
      "metadata": {
        "colab": {
          "base_uri": "https://localhost:8080/"
        },
        "id": "eBpGDRxtvDky",
        "outputId": "3ee8b7a4-7386-4602-a421-bd5098cd59c7"
      },
      "execution_count": null,
      "outputs": [
        {
          "output_type": "stream",
          "name": "stdout",
          "text": [
            "04_double_it\n",
            "Enter a value: 10\n",
            "20\n",
            "40\n",
            "80\n",
            "160\n"
          ]
        }
      ]
    }
  ]
}