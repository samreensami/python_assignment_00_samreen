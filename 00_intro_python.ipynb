{
  "nbformat": 4,
  "nbformat_minor": 0,
  "metadata": {
    "colab": {
      "provenance": [],
      "authorship_tag": "ABX9TyMdqiQTcnUpP4vKl7OxMmxW",
      "include_colab_link": true
    },
    "kernelspec": {
      "name": "python3",
      "display_name": "Python 3"
    },
    "language_info": {
      "name": "python"
    }
  },
  "cells": [
    {
      "cell_type": "markdown",
      "metadata": {
        "id": "view-in-github",
        "colab_type": "text"
      },
      "source": [
        "<a href=\"https://colab.research.google.com/github/samreensami/python_assignment_00_samreen/blob/main/00_intro_python.ipynb\" target=\"_parent\"><img src=\"https://colab.research.google.com/assets/colab-badge.svg\" alt=\"Open In Colab\"/></a>"
      ]
    },
    {
      "cell_type": "code",
      "execution_count": 2,
      "metadata": {
        "colab": {
          "base_uri": "https://localhost:8080/"
        },
        "id": "obSpjIf-bY3G",
        "outputId": "aec5e0bf-cf0a-43f8-98da-401cefadbd2e"
      },
      "outputs": [
        {
          "output_type": "stream",
          "name": "stdout",
          "text": [
            "01_add_two_numbers\n",
            "Enter first number: 10\n",
            "Enter second number: 35\n",
            "Total sum of 10 and 35 is 45\n"
          ]
        }
      ],
      "source": [
        "print(\"01_add_two_numbers\")\n",
        "\n",
        "def add():\n",
        "  first_number = int(input(\"Enter first number: \"))\n",
        "  second_number = int(input(\"Enter second number: \"))\n",
        "  sum = int(first_number) + int(second_number)\n",
        "  print(f'Total sum of {first_number} and {second_number} is {sum}')\n",
        "\n",
        "if __name__ == \"__main__\":\n",
        "  add()\n",
        "\n",
        ""
      ]
    },
    {
      "cell_type": "code",
      "source": [
        "print(\"02_agrement_bot\")\n",
        "\n",
        "def bot():\n",
        "    animal = str(input(\"Enter animal name: \"))\n",
        "    print(f\"My favourite animal is {animal}.\")  # Print the output\n",
        "\n",
        "if __name__ == \"__main__\":\n",
        "    bot()  # Call the function\n",
        "\n",
        "\n"
      ],
      "metadata": {
        "colab": {
          "base_uri": "https://localhost:8080/"
        },
        "id": "bk99r3VoglMD",
        "outputId": "48a03334-16e3-43ab-b2b1-7372821ff109"
      },
      "execution_count": 8,
      "outputs": [
        {
          "output_type": "stream",
          "name": "stdout",
          "text": [
            "02_agrement_bot\n",
            "Enter animal name: cat\n",
            "My favourite animal is cat.\n"
          ]
        }
      ]
    },
    {
      "cell_type": "code",
      "source": [
        "print(\"03_faranheit to calcius\")\n",
        "\n",
        "def temp():\n",
        "  print(\"This code converts temperature from Fahrenheit to Celcius\")\n",
        "  faranheit_degree = float(input(\"Enter temperature in Faranheit: \"))\n",
        "  celcius_degree = (faranheit_degree - 32) * 5.0/9.0\n",
        "  print(f'{faranheit_degree} degree Faranheit is {celcius_degree} degree Celcius')\n",
        "\n",
        "if __name__ == \"__main__\":\n",
        "  temp()"
      ],
      "metadata": {
        "colab": {
          "base_uri": "https://localhost:8080/"
        },
        "id": "kbIO-vLbkb8f",
        "outputId": "f6cbecca-7188-465f-ea25-ae674596a670"
      },
      "execution_count": 9,
      "outputs": [
        {
          "output_type": "stream",
          "name": "stdout",
          "text": [
            "03_faranheit to calcius\n",
            "This code converts temperature from Fahrenheit to Celcius\n",
            "Enter temperature in Faranheit: 67\n",
            "67.0 degree Faranheit is 19.444444444444443 degree Celcius\n"
          ]
        }
      ]
    },
    {
      "cell_type": "code",
      "source": [
        "print(\"04_how_old_are_they\")\n",
        "\n",
        "def add_ages():\n",
        "  sam:int = 38\n",
        "  sami:int = sam + 1\n",
        "  safdar:int = sam + sami\n",
        "  ali:int = sam + sami\n",
        "  ansari:int = sami\n",
        "\n",
        "  print(\"sam is \" + str(sam))\n",
        "  print(\"sami is \" + str(sami))\n",
        "  print(\"safdar is \" + str(safdar))\n",
        "  print(\"ali is \" + str(ali))\n",
        "  print(\"ansari is \" + str(ansari))\n",
        "\n",
        "if __name__ == \"__main__\":\n",
        "  add_ages()\n",
        "\n"
      ],
      "metadata": {
        "colab": {
          "base_uri": "https://localhost:8080/"
        },
        "id": "eH5Z1YXamIv6",
        "outputId": "1e690011-b39d-4ccf-a1fb-dcb78cdecdbd"
      },
      "execution_count": 3,
      "outputs": [
        {
          "output_type": "stream",
          "name": "stdout",
          "text": [
            "04_how_old_are_they\n",
            "sam is 38\n",
            "sami is 39\n",
            "safdar is 77\n",
            "ali is 77\n",
            "ansari is 39\n"
          ]
        }
      ]
    },
    {
      "cell_type": "code",
      "source": [
        "print(\"05_triangle_parameter\")\n",
        "\n",
        "def triangle():\n",
        "  print(\"This code is about triangle parameter\")\n",
        "  first_side:float = float(input(\"Enter first side of triangle: \"))\n",
        "  second_side:float = float(input(\"Enter second side of triangle: \"))\n",
        "  third_side:float = float(input(\"Enter third side of triangle: \"))\n",
        "\n",
        "  total:float = first_side + second_side + third_side\n",
        "  print(f'Total parameter of triangle is {total}')\n",
        "\n",
        "if __name__ == \"__main__\":\n",
        "  triangle()"
      ],
      "metadata": {
        "colab": {
          "base_uri": "https://localhost:8080/"
        },
        "id": "j_vbchHj8I3g",
        "outputId": "e15831ac-dae7-4d63-c6c5-d49f45337adb"
      },
      "execution_count": 5,
      "outputs": [
        {
          "output_type": "stream",
          "name": "stdout",
          "text": [
            "05_triangle_parameter\n",
            "This code is about triangle parameter\n",
            "Enter first side of triangle: 4\n",
            "Enter second side of triangle: 4\n",
            "Enter third side of triangle: 3\n",
            "Total parameter of triangle is 11.0\n"
          ]
        }
      ]
    },
    {
      "cell_type": "code",
      "source": [
        "print(\"06_square_number\")\n",
        "\n",
        "def square():\n",
        "  print(\"This core is about square of given number\")\n",
        "  number = int(input(\"Enter number: \"))\n",
        "  square = number * number\n",
        "  print(f'Square of {number} is {square}')\n",
        "\n",
        "if __name__ == \"__main__\":\n",
        "  square()"
      ],
      "metadata": {
        "colab": {
          "base_uri": "https://localhost:8080/"
        },
        "id": "2C6kXVnT-scy",
        "outputId": "4aa01fa6-6ba3-4c19-ce40-62021688314a"
      },
      "execution_count": 6,
      "outputs": [
        {
          "output_type": "stream",
          "name": "stdout",
          "text": [
            "06_square_number\n",
            "This core is about square of given number\n",
            "Enter number: 4\n",
            "Square of 4 is 16\n"
          ]
        }
      ]
    }
  ]
}