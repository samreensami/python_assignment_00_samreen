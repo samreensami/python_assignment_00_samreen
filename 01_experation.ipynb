{
  "nbformat": 4,
  "nbformat_minor": 0,
  "metadata": {
    "colab": {
      "provenance": [],
      "authorship_tag": "ABX9TyO2Txfrox9VESAfSsgEPmg8",
      "include_colab_link": true
    },
    "kernelspec": {
      "name": "python3",
      "display_name": "Python 3"
    },
    "language_info": {
      "name": "python"
    }
  },
  "cells": [
    {
      "cell_type": "markdown",
      "metadata": {
        "id": "view-in-github",
        "colab_type": "text"
      },
      "source": [
        "<a href=\"https://colab.research.google.com/github/samreensami/python_assignment_00_samreen/blob/main/01_experation.ipynb\" target=\"_parent\"><img src=\"https://colab.research.google.com/assets/colab-badge.svg\" alt=\"Open In Colab\"/></a>"
      ]
    },
    {
      "cell_type": "code",
      "execution_count": 5,
      "metadata": {
        "colab": {
          "base_uri": "https://localhost:8080/"
        },
        "id": "76DEz2KWt8HC",
        "outputId": "e48960f9-9cb1-47ef-b463-bcec7ae5aa62"
      },
      "outputs": [
        {
          "output_type": "stream",
          "name": "stdout",
          "text": [
            "01_dicesimulator\n",
            "diel in main() starts as: 10\n",
            "Total of two dice: 3\n",
            "Total of two dice: 6\n",
            "Total of two dice: 5\n",
            "diel in main() is: 10\n"
          ]
        }
      ],
      "source": [
        "import random\n",
        "\n",
        "print(\"01_dicesimulator\")\n",
        "\n",
        "def roll_dice():\n",
        "    die1: int = random.randint(1, 6)\n",
        "    die2: int = random.randint(1, 6)\n",
        "    total: int = die1 + die2\n",
        "    print(f\"Total of two dice: {total}\")\n",
        "\n",
        "def main():\n",
        "    diel: int = 10  # Variable ka naam `diel` galat likha gaya tha, ab sahi hai\n",
        "    print(\"diel in main() starts as: \" + str(diel))\n",
        "\n",
        "    roll_dice()\n",
        "    roll_dice()\n",
        "    roll_dice()\n",
        "\n",
        "    print(\"diel in main() is: \" + str(diel))\n",
        "\n",
        "if __name__ == \"__main__\":\n",
        "    main()\n"
      ]
    },
    {
      "cell_type": "code",
      "source": [
        "print(\"02_e=mc^2\")\n",
        "\n",
        "def energy():\n",
        "    c: int = 299792458  # Speed of light (m/s)\n",
        "\n",
        "    # Input mass (converted to float)\n",
        "    m: float = float(input(\"Enter mass in kilograms: \"))\n",
        "\n",
        "    # Formula for energy\n",
        "    e: float = m * c ** 2\n",
        "\n",
        "    # Corrected print statements\n",
        "    print(\"E = mc^2\")\n",
        "    print(f\"Mass = {m} kg\")\n",
        "    print(f\"Speed of light (c) = {c} m/s\")\n",
        "    print(f\"Energy (E) = {e} joules\")\n",
        "\n",
        "if __name__ == \"__main__\":\n",
        "    energy()\n"
      ],
      "metadata": {
        "colab": {
          "base_uri": "https://localhost:8080/"
        },
        "id": "JYawFRcIqey1",
        "outputId": "71120a63-6a52-4753-b554-e50aa166e6a6"
      },
      "execution_count": 2,
      "outputs": [
        {
          "output_type": "stream",
          "name": "stdout",
          "text": [
            "02_e=mc^2\n",
            "Enter mass in kilograms: 43\n",
            "E = mc^2\n",
            "Mass = 43.0 kg\n",
            "Speed of light (c) = 299792458 m/s\n",
            "Energy (E) = 3.864647268568316e+18 joules\n"
          ]
        }
      ]
    },
    {
      "cell_type": "code",
      "source": [
        "print(\"03_feet_to_inches\")\n",
        "\n",
        "inch: int = 12  # 1 foot = 12 inches\n",
        "\n",
        "def feet_to_inches():\n",
        "    feet: int = int(input(\"Enter feet to convert into inches: \"))\n",
        "\n",
        "    # Convert feet to inches\n",
        "    total_inches: int = feet * inch\n",
        "\n",
        "    # Corrected print statement\n",
        "    print(f\"There are {total_inches} inches in {feet} feet.\")\n",
        "\n",
        "if __name__ == \"__main__\":\n",
        "    feet_to_inches()\n"
      ],
      "metadata": {
        "colab": {
          "base_uri": "https://localhost:8080/"
        },
        "id": "DthO5r8GwJOw",
        "outputId": "059b214c-c7f5-40db-8bd3-61bb56b8a9b2"
      },
      "execution_count": 5,
      "outputs": [
        {
          "output_type": "stream",
          "name": "stdout",
          "text": [
            "03_feet_to_inches\n",
            "Enter feet to convert into inches: 35\n",
            "There are 420 inches in 35 feet.\n"
          ]
        }
      ]
    },
    {
      "cell_type": "code",
      "source": [
        "import math\n",
        "print(\"04_pythagorean_theorem.md\")\n",
        "\n",
        "def triangle():\n",
        "  ab:float = float(input(\"Enter the length of side ab\"))\n",
        "  ac:float = float(input(\"Eeter the length of side ac\"))\n",
        "  bc:float = math.sqrt(ab**2 + ac**2)\n",
        "  print(f\"The length of side bc is {bc}\")\n",
        "\n",
        "if __name__ == \"__main__\":\n",
        "\n",
        "  triangle()"
      ],
      "metadata": {
        "colab": {
          "base_uri": "https://localhost:8080/"
        },
        "id": "Mtq6FIByyGOa",
        "outputId": "a6818dde-0fe1-43d8-ff86-2924ac4a5faf"
      },
      "execution_count": 7,
      "outputs": [
        {
          "output_type": "stream",
          "name": "stdout",
          "text": [
            "04_pythagorean_theorem.md\n",
            "Enter the length of side ab4\n",
            "Eeter the length of side ac5\n",
            "The length of side bc is 6.4031242374328485\n"
          ]
        }
      ]
    },
    {
      "cell_type": "code",
      "source": [
        "print(\"05_reminder_division.md\")\n",
        "\n",
        "def reminder():\n",
        "  num1:int = int(input(\"Enter an integer: \"))\n",
        "  num2:int = int(input(\"Enter another integer: \"))\n",
        "  quotient:int = num1 // num2\n",
        "  reminder:int = num1 % num2\n",
        "  print(f\"{num1} divided by {num2} is {quotient} with a reminder of {reminder}\")\n",
        "\n",
        "if __name__ == \"__main__\":\n",
        "  reminder()\n",
        "\n"
      ],
      "metadata": {
        "colab": {
          "base_uri": "https://localhost:8080/"
        },
        "id": "NLXnL8nU2i9B",
        "outputId": "b5bf841f-3310-416e-d2fc-2121594a7ff4"
      },
      "execution_count": 4,
      "outputs": [
        {
          "output_type": "stream",
          "name": "stdout",
          "text": [
            "05_reminder_division.md\n",
            "Enter an integer: 56\n",
            "Enter another integer: 3\n",
            "56 divided by 3 is 18 with a reminder of 2\n"
          ]
        }
      ]
    },
    {
      "cell_type": "code",
      "source": [
        "import random\n",
        "print(\"06_rolldice\")\n",
        "\n",
        "def roll():\n",
        "  diel:int = random.randint(1,6)\n",
        "  diel2:int = random.randint(1,6)\n",
        "  total:int = diel + diel2\n",
        "  print(\"First die:\" + str(diel))\n",
        "  print(\"Second die:\" + str(diel2))\n",
        "  print(f\"Total of two dice: {total}\")\n",
        "\n",
        "if __name__ == \"__main__\":\n",
        "  roll()\n"
      ],
      "metadata": {
        "colab": {
          "base_uri": "https://localhost:8080/"
        },
        "id": "_g5ImZke0_NH",
        "outputId": "b172f968-435b-435b-9aff-5043d3ce7945"
      },
      "execution_count": 6,
      "outputs": [
        {
          "output_type": "stream",
          "name": "stdout",
          "text": [
            "06_rolldice\n",
            "First die:6\n",
            "Second die:1\n",
            "Total of two dice: 7\n"
          ]
        }
      ]
    },
    {
      "cell_type": "code",
      "source": [
        "print(\"07_seconds_in_year\")\n",
        "\n",
        "days_in_year:int = 365\n",
        "hours_per_day:int = 24\n",
        "minutes_per_hour:int = 60\n",
        "seconds_per_minute:int = 60\n",
        "\n",
        "def seconds():\n",
        "  print(f\"There are {days_in_year * hours_per_day * minutes_per_hour * seconds_per_minute} seconds in a year\")\n",
        "\n",
        "if __name__ == \"__main__\":\n",
        "  seconds()\n",
        "\n"
      ],
      "metadata": {
        "colab": {
          "base_uri": "https://localhost:8080/"
        },
        "id": "77ryhQxR9LvU",
        "outputId": "32e61f52-006b-432d-96fd-5f2506791205"
      },
      "execution_count": 7,
      "outputs": [
        {
          "output_type": "stream",
          "name": "stdout",
          "text": [
            "07_seconds_in_year\n",
            "There are 31536000 seconds in a year\n"
          ]
        }
      ]
    },
    {
      "cell_type": "code",
      "source": [
        "print(\"08_tiny_mad_lib\")\n",
        "\n",
        "def mad_lib():\n",
        "  noun:str = input(\"Enter a noun: \")\n",
        "  verb:str = input(\"Enter a verb: \")\n",
        "  adjective:str = input(\"Enter an adjective: \")\n",
        "\n",
        "  print(f\"Do you {verb} your {adjective} {noun} ?\")\n",
        "\n",
        "if __name__ == \"__main__\":\n",
        "  mad_lib()\n"
      ],
      "metadata": {
        "colab": {
          "base_uri": "https://localhost:8080/"
        },
        "id": "s8cPjo-EAUmx",
        "outputId": "c481f853-ffbb-4aa3-9044-f02b173904ea"
      },
      "execution_count": 14,
      "outputs": [
        {
          "output_type": "stream",
          "name": "stdout",
          "text": [
            "08_tiny_mad_lib\n",
            "Enter a noun: barzah\n",
            "Enter a verb: sleep\n",
            "Enter an adjective: sweetly\n",
            "Do you sleep your sweetly barzah ?\n"
          ]
        }
      ]
    }
  ]
}