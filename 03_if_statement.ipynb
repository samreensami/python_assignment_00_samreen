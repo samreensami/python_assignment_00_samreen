{
  "nbformat": 4,
  "nbformat_minor": 0,
  "metadata": {
    "colab": {
      "provenance": [],
      "authorship_tag": "ABX9TyNb0ov7VxBleQ8VSZuUMSkI",
      "include_colab_link": true
    },
    "kernelspec": {
      "name": "python3",
      "display_name": "Python 3"
    },
    "language_info": {
      "name": "python"
    }
  },
  "cells": [
    {
      "cell_type": "markdown",
      "metadata": {
        "id": "view-in-github",
        "colab_type": "text"
      },
      "source": [
        "<a href=\"https://colab.research.google.com/github/samreensami/python_assignment_00_samreen/blob/main/03_if_statement.ipynb\" target=\"_parent\"><img src=\"https://colab.research.google.com/assets/colab-badge.svg\" alt=\"Open In Colab\"/></a>"
      ]
    },
    {
      "cell_type": "code",
      "execution_count": 2,
      "metadata": {
        "colab": {
          "base_uri": "https://localhost:8080/"
        },
        "id": "6fTU1F9it-Kb",
        "outputId": "e05872fb-03c0-4657-e9a3-09ee9b9e8d76"
      },
      "outputs": [
        {
          "output_type": "stream",
          "name": "stdout",
          "text": [
            "02_print_events\n",
            "Here are 20 even numbers:\n",
            "2\n",
            "4\n",
            "6\n",
            "8\n",
            "10\n",
            "12\n",
            "14\n",
            "16\n",
            "18\n",
            "20\n",
            "22\n",
            "24\n",
            "26\n",
            "28\n",
            "30\n",
            "32\n",
            "34\n",
            "36\n",
            "38\n",
            "40\n"
          ]
        }
      ],
      "source": [
        "print(\"02_print_events\")\n",
        "\n",
        "def event():\n",
        "    print(\"Here are 20 even numbers:\")\n",
        "    for i in range(1, 21):\n",
        "        even = i * 2\n",
        "        print(even)\n",
        "\n",
        "if __name__ == \"__main__\":\n",
        "    event()\n",
        "\n"
      ]
    },
    {
      "cell_type": "code",
      "source": [
        "print(\"02_international_voting_age\")\n",
        "\n",
        "Peturksbouipo: int = 16\n",
        "Starlau: int = 25\n",
        "Mayengua: int = 48\n",
        "\n",
        "def main():\n",
        "    age: int = int(input(\"Please enter your age: \"))\n",
        "\n",
        "    if age >= Mayengua:\n",
        "        print(f\"Your age is {age}. You are eligible to vote in Mayengua, Starlau, and Peturksbouipo.\")\n",
        "    elif age >= Starlau:\n",
        "        print(f\"Your age is {age}. You are eligible to vote in Starlau and Peturksbouipo.\")\n",
        "    elif age >= Peturksbouipo:\n",
        "        print(f\"Your age is {age}. You are eligible to vote in Peturksbouipo.\")\n",
        "    else:\n",
        "        print(f\"Your age is {age}. You are not eligible to vote in any country.\")\n",
        "\n",
        "if __name__ == \"__main__\":\n",
        "    main()\n"
      ],
      "metadata": {
        "colab": {
          "base_uri": "https://localhost:8080/"
        },
        "id": "aVnD-ywXydME",
        "outputId": "9558e516-7da1-4795-ab84-c8453f59e6e2"
      },
      "execution_count": 2,
      "outputs": [
        {
          "output_type": "stream",
          "name": "stdout",
          "text": [
            "02_international_voting_age\n",
            "Please enter your age: 38\n",
            "Your age is 38. You are eligible to vote in Starlau and Peturksbouipo.\n"
          ]
        }
      ]
    },
    {
      "cell_type": "code",
      "source": [
        "print(\"03_leap_year\")\n",
        "\n",
        "def leap_year():\n",
        "    year: int = int(input(\"Enter year: \"))\n",
        "\n",
        "    if year % 4 == 0:\n",
        "        if year % 100 == 0:\n",
        "            if year % 400 == 0:\n",
        "                print(f\"{year} is a leap year.\")\n",
        "            else:\n",
        "                print(f\"{year} is not a leap year.\")\n",
        "        else:\n",
        "            print(f\"{year} is a leap year.\")\n",
        "    else:\n",
        "        print(f\"{year} is not a leap year.\")\n",
        "\n",
        "# Call the function to run\n",
        "leap_year()\n"
      ],
      "metadata": {
        "colab": {
          "base_uri": "https://localhost:8080/"
        },
        "id": "7SPrBW850Zyk",
        "outputId": "28b95a1d-4c18-4bc2-a7da-819da89bc484"
      },
      "execution_count": 9,
      "outputs": [
        {
          "output_type": "stream",
          "name": "stdout",
          "text": [
            "03_leap_year\n",
            "Enter year: 2024\n",
            "2024 is a leap year.\n"
          ]
        }
      ]
    },
    {
      "cell_type": "code",
      "source": [
        "print(\"04_tall_enough_to_ride\")\n",
        "\n",
        "min_height: int = 50\n",
        "\n",
        "def main():\n",
        "    user: int = int(input(\"How tall are you in cm? \"))\n",
        "\n",
        "    if user >= min_height:\n",
        "        print(\"You are tall enough to ride. 🎢\")\n",
        "    else:\n",
        "        print(\"You are not tall enough to ride. 🚫\")\n",
        "\n",
        "if __name__ == \"__main__\":\n",
        "    main()\n",
        "\n"
      ],
      "metadata": {
        "colab": {
          "base_uri": "https://localhost:8080/"
        },
        "id": "sOihIdYD4y30",
        "outputId": "de8efb08-17f5-4954-f441-16a62841196d"
      },
      "execution_count": 6,
      "outputs": [
        {
          "output_type": "stream",
          "name": "stdout",
          "text": [
            "04_tall_enough_to_ride\n",
            "How tall are you in cm? 75\n",
            "You are tall enough to ride. 🎢\n"
          ]
        }
      ]
    },
    {
      "cell_type": "code",
      "source": [
        "import random\n",
        "\n",
        "def main():\n",
        "  for i in range(10):\n",
        "    num:list[int] = random.randint(1,100)\n",
        "    print(num)\n",
        "\n",
        "if __name__ == \"__main__\":\n",
        "  main()\n"
      ],
      "metadata": {
        "colab": {
          "base_uri": "https://localhost:8080/"
        },
        "id": "Fua_KWl5_Dhu",
        "outputId": "cfd58244-0f33-45db-c287-3fb8a4d454db"
      },
      "execution_count": 7,
      "outputs": [
        {
          "output_type": "stream",
          "name": "stdout",
          "text": [
            "90\n",
            "65\n",
            "75\n",
            "5\n",
            "94\n",
            "30\n",
            "5\n",
            "81\n",
            "69\n",
            "97\n"
          ]
        }
      ]
    }
  ]
}