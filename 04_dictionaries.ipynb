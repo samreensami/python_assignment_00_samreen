{
  "nbformat": 4,
  "nbformat_minor": 0,
  "metadata": {
    "colab": {
      "provenance": [],
      "authorship_tag": "ABX9TyPxeR8FuYdl3KaD4FNKJkdQ",
      "include_colab_link": true
    },
    "kernelspec": {
      "name": "python3",
      "display_name": "Python 3"
    },
    "language_info": {
      "name": "python"
    }
  },
  "cells": [
    {
      "cell_type": "markdown",
      "metadata": {
        "id": "view-in-github",
        "colab_type": "text"
      },
      "source": [
        "<a href=\"https://colab.research.google.com/github/samreensami/python_assignment_00_samreen/blob/main/04_dictionaries.ipynb\" target=\"_parent\"><img src=\"https://colab.research.google.com/assets/colab-badge.svg\" alt=\"Open In Colab\"/></a>"
      ]
    },
    {
      "cell_type": "code",
      "execution_count": null,
      "metadata": {
        "colab": {
          "base_uri": "https://localhost:8080/"
        },
        "id": "a2ncKvKdM-P0",
        "outputId": "1b32add0-f1ff-4e89-8154-93fa1cb3bf3a"
      },
      "outputs": [
        {
          "output_type": "stream",
          "name": "stdout",
          "text": [
            "00_count_nums\n",
            "Enter a number (or 'exit' to stop): 43\n",
            "Enter a number (or 'exit' to stop): 87\n",
            "Enter a number (or 'exit' to stop): 5\n",
            "Enter a number (or 'exit' to stop): 987\n",
            "Enter a number (or 'exit' to stop): exit\n",
            "\n",
            "Number count:\n",
            "43 appears 1 times\n",
            "87 appears 1 times\n",
            "5 appears 1 times\n",
            "987 appears 1 times\n"
          ]
        }
      ],
      "source": [
        "print(\"00_count_nums\")\n",
        "\n",
        "def count_numbers():\n",
        "    count_dict = {}\n",
        "\n",
        "    while True:\n",
        "        user_input = input(\"Enter a number (or 'exit' to stop): \")\n",
        "\n",
        "        if user_input.lower() == 'exit':\n",
        "            break\n",
        "\n",
        "        if user_input.isdigit():\n",
        "            num = int(user_input)\n",
        "            count_dict[num] = count_dict.get(num, 0) + 1\n",
        "        else:\n",
        "            print(\"Invalid input... please enter a number or 'exit'.\")\n",
        "\n",
        "    return count_dict\n",
        "\n",
        "def display_count(count_dict):\n",
        "    print(\"\\nNumber count:\")\n",
        "\n",
        "    for key, value in count_dict.items():\n",
        "        print(f\"{key} appears {value} times\")\n",
        "\n",
        "if __name__ == \"__main__\":\n",
        "    count_dict = count_numbers()\n",
        "    display_count(count_dict)\n"
      ]
    },
    {
      "cell_type": "code",
      "source": [
        "print(\"📒 Phonebook Program\")\n",
        "\n",
        "def add_contact(phonebook):\n",
        "    name = input(\"Enter the name: \")\n",
        "    phone = input(\"Enter the phone number: \")\n",
        "    email = input(\"Enter the email address: \")\n",
        "\n",
        "    # Check if the phone number already exists\n",
        "    for existing_name, details in phonebook.items():\n",
        "        if details['phone'] == phone:\n",
        "            print(f\"Phone number {phone} is already assigned to {existing_name}.\")\n",
        "            return\n",
        "\n",
        "    if name in phonebook:\n",
        "        print(f\"{name} is already in the phonebook.\")\n",
        "    else:\n",
        "        phonebook[name] = {'phone': phone, 'email': email}\n",
        "        print(f\"{name} has been added to the phonebook.\")\n",
        "\n",
        "def search_contact(phonebook):\n",
        "    name = input(\"Enter contact name to search: \")\n",
        "\n",
        "    if name in phonebook:\n",
        "        contact = phonebook[name]\n",
        "        print(f\"{name} → Phone: {contact['phone']}, Email: {contact['email']}\")\n",
        "    else:\n",
        "        print(f\"{name} is not in the phonebook.\")\n",
        "\n",
        "def delete_contact(phonebook):\n",
        "    name = input(\"Enter contact name to delete: \")\n",
        "    if name in phonebook:\n",
        "        del phonebook[name]\n",
        "        print(f\"{name} has been deleted from the phonebook.\")\n",
        "    else:\n",
        "        print(f\"{name} not found in the phonebook.\")\n",
        "\n",
        "def display_contacts(phonebook):\n",
        "    if phonebook:\n",
        "        print(\"\\n📋 Phonebook Contact List:\")\n",
        "        for name, info in phonebook.items():\n",
        "            print(f\"{name} → Phone: {info['phone']}, Email: {info['email']}\")\n",
        "    else:\n",
        "        print(\"📭 Phonebook is empty.\")\n",
        "\n",
        "def phonebook_menu():\n",
        "    phonebook = {}\n",
        "    while True:\n",
        "        print(\"\\n📱 Phonebook Menu:\")\n",
        "        print(\"1. Add contact\")\n",
        "        print(\"2. Search contact\")\n",
        "        print(\"3. Delete contact\")\n",
        "        print(\"4. Display all contacts\")\n",
        "        print(\"5. Exit\")\n",
        "\n",
        "        choice = input(\"Enter your choice (1-5): \")\n",
        "\n",
        "        if choice == '1':\n",
        "            add_contact(phonebook)\n",
        "        elif choice == '2':\n",
        "            search_contact(phonebook)\n",
        "        elif choice == '3':\n",
        "            delete_contact(phonebook)\n",
        "        elif choice == '4':\n",
        "            display_contacts(phonebook)\n",
        "        elif choice == '5':\n",
        "            print(\"🚪 Exiting Phonebook. Goodbye!\")\n",
        "            break\n",
        "        else:\n",
        "            print(\"❌ Invalid choice. Please enter a number between 1 and 5.\")\n",
        "\n",
        "# Call the menu function when running the program\n",
        "if __name__ == \"__main__\":\n",
        "    phonebook_menu()\n"
      ],
      "metadata": {
        "id": "Y9IaRWaOTVXF",
        "colab": {
          "base_uri": "https://localhost:8080/"
        },
        "outputId": "c4f304b1-65c2-47a4-be9a-419d5ebf6b33"
      },
      "execution_count": null,
      "outputs": [
        {
          "output_type": "stream",
          "name": "stdout",
          "text": [
            "📒 Phonebook Program\n",
            "\n",
            "📱 Phonebook Menu:\n",
            "1. Add contact\n",
            "2. Search contact\n",
            "3. Delete contact\n",
            "4. Display all contacts\n",
            "5. Exit\n",
            "Enter your choice (1-5): 1\n",
            "Enter the name: sam\n",
            "Enter the phone number: 435365657\n",
            "Enter the email address: d@rftr67878\n",
            "sam has been added to the phonebook.\n",
            "\n",
            "📱 Phonebook Menu:\n",
            "1. Add contact\n",
            "2. Search contact\n",
            "3. Delete contact\n",
            "4. Display all contacts\n",
            "5. Exit\n"
          ]
        }
      ]
    },
    {
      "cell_type": "code",
      "source": [
        "\n",
        "print(\"03_pop_up_shop\")\n",
        "\n",
        "def calculate_total_cost():\n",
        "  fruits_price = {\n",
        "      \"apple\":5.0,\n",
        "      \"mango\":15.0,\n",
        "      \"kiwi\":8.0,\n",
        "      \"banana\":6.0,\n",
        "      \"orange\":10.0,\n",
        "  }\n",
        "  total_cost = 0.0\n",
        "\n",
        "  for fruit, price in fruits_price.items():\n",
        "    while True:\n",
        "      try:\n",
        "        quantity = int(input(f\"Enter the quantity of {fruit}s: \"))\n",
        "        if quantity < 0:\n",
        "          print(\"Invalid input. Please enter a non-negative quantity.\")\n",
        "        else:\n",
        "          total_cost += price * quantity\n",
        "          break\n",
        "      except ValueError:\n",
        "        print(\"Invalid input. please enter a valid number. \")\n",
        "\n",
        "      print(f\"\\n Your total cost is: ${total_cost:.2f}\")\n",
        "\n",
        "if __name__ == \"__main__\":\n",
        "  calculate_total_cost()\n",
        "\n",
        "\n",
        "\n",
        "\n",
        "\n"
      ],
      "metadata": {
        "id": "Feln47fYTIab"
      },
      "execution_count": null,
      "outputs": []
    }
  ]
}