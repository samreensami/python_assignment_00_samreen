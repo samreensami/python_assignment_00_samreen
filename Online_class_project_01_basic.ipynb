{
  "nbformat": 4,
  "nbformat_minor": 0,
  "metadata": {
    "colab": {
      "provenance": [],
      "authorship_tag": "ABX9TyONG0uj6bQPrQVXSsf2xmUi",
      "include_colab_link": true
    },
    "kernelspec": {
      "name": "python3",
      "display_name": "Python 3"
    },
    "language_info": {
      "name": "python"
    }
  },
  "cells": [
    {
      "cell_type": "markdown",
      "metadata": {
        "id": "view-in-github",
        "colab_type": "text"
      },
      "source": [
        "<a href=\"https://colab.research.google.com/github/samreensami/python_assignment_00_samreen/blob/main/Online_class_project_01_basic.ipynb\" target=\"_parent\"><img src=\"https://colab.research.google.com/assets/colab-badge.svg\" alt=\"Open In Colab\"/></a>"
      ]
    },
    {
      "cell_type": "code",
      "execution_count": 4,
      "metadata": {
        "colab": {
          "base_uri": "https://localhost:8080/"
        },
        "id": "FBbU_JWv5E-v",
        "outputId": "30dc4bef-53c3-40af-fbfe-ba11188d4d7d"
      },
      "outputs": [
        {
          "output_type": "stream",
          "name": "stdout",
          "text": [
            "01_joke_bote\n",
            "what do you want?story\n",
            "Ionly tell jokes\n"
          ]
        }
      ],
      "source": [
        "print(\"00_joke_bote\")\n",
        "\n",
        "prompt: str = \"what do you want?\"\n",
        "joke: str = \"Why did the project manager bring a ladder to the meeting?\\nBecause they wanted to take the project to the next level! 😆\"\n",
        "sorry:str = \"I only tell jokes\"\n",
        "\n",
        "def main():\n",
        "  user_input = input(prompt)\n",
        "  user_input = user_input.lower()\n",
        "\n",
        "  if \"joke\" in user_input:\n",
        "    print(joke)\n",
        "  else:\n",
        "    print(sorry)\n",
        "\n",
        "if __name__ == \"__main__\":\n",
        "  main()\n"
      ]
    },
    {
      "cell_type": "code",
      "source": [
        "print(\"01_double_it\")\n",
        "\n",
        "def main():\n",
        "    user_value = int(input(\"Enter a value: \"))\n",
        "    while user_value < 100:\n",
        "        user_value = user_value * 2\n",
        "        print(user_value)\n",
        "\n",
        "\n",
        "if __name__ == \"__main__\":\n",
        "    main()"
      ],
      "metadata": {
        "colab": {
          "base_uri": "https://localhost:8080/"
        },
        "id": "Be5A2nYdWqVQ",
        "outputId": "36ae78e8-e52d-4848-cf12-4f925698d745"
      },
      "execution_count": 5,
      "outputs": [
        {
          "output_type": "stream",
          "name": "stdout",
          "text": [
            "02_double_it\n",
            "Enter a value: 5\n",
            "10\n",
            "20\n",
            "40\n",
            "80\n",
            "160\n"
          ]
        }
      ]
    },
    {
      "cell_type": "code",
      "source": [
        "print(\"02_liftoff\")\n",
        "\n",
        "def main():\n",
        "  for i in range(10,0,-1):\n",
        "    print(i)\n",
        "  print(\"Liftoff!🚀 \")\n",
        "\n",
        "if __name__ == \"__main__\":\n",
        "  main()"
      ],
      "metadata": {
        "colab": {
          "base_uri": "https://localhost:8080/"
        },
        "id": "E1EfnKLNW3hj",
        "outputId": "94fae09f-cd94-4544-fcd3-eef5419ee3a4"
      },
      "execution_count": 6,
      "outputs": [
        {
          "output_type": "stream",
          "name": "stdout",
          "text": [
            "03_liftoff\n",
            "10\n",
            "9\n",
            "8\n",
            "7\n",
            "6\n",
            "5\n",
            "4\n",
            "3\n",
            "2\n",
            "1\n",
            "Liftoff!🚀 \n"
          ]
        }
      ]
    },
    {
      "cell_type": "code",
      "source": [
        "print(\"03_guess_my_number\")\n",
        "\n",
        "import random\n",
        "\n",
        "def main():\n",
        "    print(\"🎯 Welcome to the 'Guess My Number' Game!\")\n",
        "    print(\"I'm thinking of a number between 1 and 100.\")\n",
        "    print(\"Type 'exit' anytime to quit the game.\\n\")\n",
        "\n",
        "    secret_number = random.randint(1, 100)\n",
        "\n",
        "    while True:\n",
        "        guess = input(\"Enter a guess (or type 'exit' to quit): \")\n",
        "\n",
        "        if guess.lower() == \"exit\":\n",
        "            print(\"👋 You chose to exit. Goodbye!\")\n",
        "            break\n",
        "\n",
        "        if not guess.isdigit():\n",
        "            print(\"❌ Please enter a valid number.\")\n",
        "            continue\n",
        "\n",
        "        guess = int(guess)\n",
        "\n",
        "        if guess < secret_number:\n",
        "            print(\"📉 Your guess is too low.\\n\")\n",
        "        elif guess > secret_number:\n",
        "            print(\"📈 Your guess is too high.\\n\")\n",
        "        else:\n",
        "            print(f\"🎉 Congratulations! The number was {secret_number}.\\n\")\n",
        "            break\n",
        "\n",
        "if __name__ == \"__main__\":\n",
        "    main()\n"
      ],
      "metadata": {
        "colab": {
          "base_uri": "https://localhost:8080/"
        },
        "id": "mWKNPa_iYkLx",
        "outputId": "799d2387-d818-4d8a-9fb0-33bbb5f90e05"
      },
      "execution_count": 7,
      "outputs": [
        {
          "output_type": "stream",
          "name": "stdout",
          "text": [
            "04_guess_my_number\n",
            "🎯 Welcome to the 'Guess My Number' Game!\n",
            "I'm thinking of a number between 1 and 100.\n",
            "Type 'exit' anytime to quit the game.\n",
            "\n",
            "Enter a guess (or type 'exit' to quit): 78\n",
            "📉 Your guess is too low.\n",
            "\n",
            "Enter a guess (or type 'exit' to quit): 65\n",
            "📉 Your guess is too low.\n",
            "\n",
            "Enter a guess (or type 'exit' to quit): quit\n",
            "❌ Please enter a valid number.\n",
            "Enter a guess (or type 'exit' to quit): exit\n",
            "👋 You chose to exit. Goodbye!\n"
          ]
        }
      ]
    },
    {
      "cell_type": "code",
      "source": [
        "import random\n",
        "print(\"04_random_number\")\n",
        "\n",
        "def main():\n",
        "  for i in range(10):\n",
        "    print(random.randint(1,100),\" \")\n",
        "\n",
        "if __name__ == \"__main__\":\n",
        "  main()\n"
      ],
      "metadata": {
        "colab": {
          "base_uri": "https://localhost:8080/"
        },
        "id": "CJ7OoJaxaw0-",
        "outputId": "db0b7b56-d808-45ca-c165-606702b60224"
      },
      "execution_count": 1,
      "outputs": [
        {
          "output_type": "stream",
          "name": "stdout",
          "text": [
            "05_random_number\n",
            "86  \n",
            "39  \n",
            "70  \n",
            "20  \n",
            "82  \n",
            "90  \n",
            "34  \n",
            "40  \n",
            "66  \n",
            "93  \n"
          ]
        }
      ]
    }
  ]
}