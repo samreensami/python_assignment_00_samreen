{
  "nbformat": 4,
  "nbformat_minor": 0,
  "metadata": {
    "colab": {
      "provenance": [],
      "authorship_tag": "ABX9TyO1lJWwq9fdKPPCQ5FLI4S2",
      "include_colab_link": true
    },
    "kernelspec": {
      "name": "python3",
      "display_name": "Python 3"
    },
    "language_info": {
      "name": "python"
    }
  },
  "cells": [
    {
      "cell_type": "markdown",
      "metadata": {
        "id": "view-in-github",
        "colab_type": "text"
      },
      "source": [
        "<a href=\"https://colab.research.google.com/github/samreensami/python_assignment_00_samreen/blob/main/02lists.ipynb\" target=\"_parent\"><img src=\"https://colab.research.google.com/assets/colab-badge.svg\" alt=\"Open In Colab\"/></a>"
      ]
    },
    {
      "cell_type": "code",
      "execution_count": 1,
      "metadata": {
        "colab": {
          "base_uri": "https://localhost:8080/"
        },
        "id": "4ceiM9UqJgJ8",
        "outputId": "b28f3b61-f4f7-4b60-de56-159fb0fc2184"
      },
      "outputs": [
        {
          "output_type": "stream",
          "name": "stdout",
          "text": [
            "01_and_many_numbers\n",
            "15\n"
          ]
        }
      ],
      "source": [
        "print(\"01_and_many_numbers\")\n",
        "\n",
        "def add_number(numbers: list[int]) -> int:\n",
        "    num: int = 0\n",
        "    for i in numbers:\n",
        "        num += i\n",
        "    return num  # Return statement loop ke andar nahi hona chahiye\n",
        "\n",
        "def main():\n",
        "    numbers: list[int] = [1, 2, 3, 4, 5]\n",
        "    sum_result = add_number(numbers)  # `number` ki jagah `numbers` pass karna tha\n",
        "    print(sum_result)\n",
        "\n",
        "if __name__ == \"__main__\":\n",
        "    main()\n",
        "\n",
        "\n"
      ]
    },
    {
      "cell_type": "code",
      "source": [
        "print(\"02_double_list\")\n",
        "\n",
        "def main():\n",
        "  numbers: list[int] = [1, 2, 3, 4, 5]\n",
        "  doubled_numbers: list[int] = []\n",
        "  for number in numbers:\n",
        "    doubled_numbers.append(number * 2)\n",
        "  print(doubled_numbers)\n",
        "\n",
        "if __name__==\"__main__\":\n",
        "    main()"
      ],
      "metadata": {
        "colab": {
          "base_uri": "https://localhost:8080/"
        },
        "id": "0Bq-WfS6jRcf",
        "outputId": "85c9bcfb-2a50-4c2e-abb9-6cddc9d6a34e"
      },
      "execution_count": 2,
      "outputs": [
        {
          "output_type": "stream",
          "name": "stdout",
          "text": [
            "02_double_list\n",
            "[2, 4, 6, 8, 10]\n"
          ]
        }
      ]
    },
    {
      "cell_type": "code",
      "source": [
        "print(\"04_following_with_data_structure\")\n",
        "\n",
        "def add_three_copies(lst: list, data: str):  # Fixed function parameters\n",
        "    lst.append(data)\n",
        "    lst.append(data)\n",
        "    lst.append(data)  # 3 copies add karne ke liye 3 baar append()\n",
        "\n",
        "def main():\n",
        "    message = input(\"Enter a message to copy: \")\n",
        "    lst = []  # \"1st\" variable ka naam wrong tha, correct name `lst`\n",
        "    print(\"Before list:\", lst)\n",
        "    add_three_copies(lst, message)\n",
        "    print(\"After list:\", lst)\n",
        "\n",
        "if __name__ == \"__main__\":\n",
        "    main()\n",
        "\n"
      ],
      "metadata": {
        "colab": {
          "base_uri": "https://localhost:8080/"
        },
        "id": "tJKvthT2kEsI",
        "outputId": "69d5d2c4-79e6-4aa8-8567-9fff73b42bc4"
      },
      "execution_count": 2,
      "outputs": [
        {
          "output_type": "stream",
          "name": "stdout",
          "text": [
            "04_following_with_data_structure\n",
            "Enter a message to copy: dkdj\n",
            "Before list: []\n",
            "After list: ['dkdj', 'dkdj', 'dkdj']\n"
          ]
        }
      ]
    },
    {
      "cell_type": "code",
      "source": [
        "print(\"05_get_first_element\")\n",
        "\n",
        "def get_first_element(lst):  # Fixed function syntax\n",
        "    print(lst[0])  # Print first element\n",
        "\n",
        "def get_1st():\n",
        "    lst = []  # \"1st\" ko valid variable name \"lst\" kiya\n",
        "    elem: str = input(\"Enter an element to add to the list: \")\n",
        "\n",
        "    while elem != \"\":  # Jab tak empty string na ho, loop chalega\n",
        "        lst.append(elem)\n",
        "        elem = input(\"Enter an element to add to the list: \")\n",
        "\n",
        "    return lst  # List return karni thi\n",
        "\n",
        "def main():\n",
        "    lst = get_1st()  # Function call karna galat tha, fixed\n",
        "    if lst:  # Check list is not empty before printing\n",
        "        get_first_element(lst)\n",
        "\n",
        "if __name__ == \"__main__\":\n",
        "    main()\n",
        "\n",
        "\n"
      ],
      "metadata": {
        "colab": {
          "base_uri": "https://localhost:8080/"
        },
        "id": "39MFcwqg7OrO",
        "outputId": "1a94ee60-e996-4ca1-aa49-05c77ed7452a"
      },
      "execution_count": 2,
      "outputs": [
        {
          "output_type": "stream",
          "name": "stdout",
          "text": [
            "05_get_first_element\n",
            "Enter an element to add to the list: 32\n",
            "Enter an element to add to the list: ew\n",
            "Enter an element to add to the list: 54\n",
            "Enter an element to add to the list: 65\n",
            "Enter an element to add to the list: 98\n",
            "Enter an element to add to the list: 09\n",
            "Enter an element to add to the list: 12\n",
            "Enter an element to add to the list: 23\n",
            "Enter an element to add to the list: 24\n",
            "Enter an element to add to the list: \n",
            "32\n"
          ]
        }
      ]
    },
    {
      "cell_type": "code",
      "source": [
        "print(\"06_get_last_element\")\n",
        "\n",
        "def get_last_element(lst):\n",
        "    if lst:  # Check if list is not empty\n",
        "        print(lst[-1])  # Print last element\n",
        "        return lst[-1]  # Return last element\n",
        "    else:\n",
        "        print(\"List is empty.\")\n",
        "        return None  # Return None if list is empty\n",
        "\n",
        "def get_list():\n",
        "    lst = []  # Initialize an empty list\n",
        "    elem = input(\"Enter an element to add to the list (press Enter to stop): \")\n",
        "\n",
        "    while elem != \"\":  # Keep adding elements until an empty input is given\n",
        "        lst.append(elem)\n",
        "        elem = input(\"Enter an element to add to the list (press Enter to stop): \")\n",
        "\n",
        "    return lst  # Return the filled list\n",
        "\n",
        "def main():\n",
        "    lst = get_list()  # Get user input list\n",
        "    if lst:  # Ensure list is not empty before calling get_last_element\n",
        "        get_last_element(lst)\n",
        "\n",
        "if __name__ == \"__main__\":\n",
        "    main()\n"
      ],
      "metadata": {
        "colab": {
          "base_uri": "https://localhost:8080/"
        },
        "id": "k5STjnsjeuMV",
        "outputId": "ad528fbc-45a1-42fc-82e4-ddc977f2ff84"
      },
      "execution_count": 3,
      "outputs": [
        {
          "output_type": "stream",
          "name": "stdout",
          "text": [
            "06_get_last_element\n",
            "Enter an element to add to the list (press Enter to stop): d\n",
            "Enter an element to add to the list (press Enter to stop): g\n",
            "Enter an element to add to the list (press Enter to stop): u\n",
            "Enter an element to add to the list (press Enter to stop): l\n",
            "Enter an element to add to the list (press Enter to stop): a\n",
            "Enter an element to add to the list (press Enter to stop): \n",
            "a\n"
          ]
        }
      ]
    },
    {
      "cell_type": "code",
      "source": [
        "print(\"07_get_list\")\n",
        "\n",
        "def get_list():\n",
        "    lst = []  # Initialize an empty list\n",
        "    val = input(\"Enter a value (or 'q' to quit): \")\n",
        "\n",
        "    while val.lower() != 'q':  # Stop when user enters 'q'\n",
        "        lst.append(val)  # Append value to list\n",
        "        print(\"Here is the list:\", lst)  # Print updated list\n",
        "        val = input(\"Enter a value to add to the list (or 'q' to quit): \")\n",
        "\n",
        "    return lst  # Return the final list\n",
        "\n",
        "def main():\n",
        "    final_list = get_list()  # Call get_list and store result\n",
        "    print(\"Final list:\", final_list)  # Print final list\n",
        "\n",
        "if __name__ == \"__main__\":\n",
        "    main()\n"
      ],
      "metadata": {
        "colab": {
          "base_uri": "https://localhost:8080/"
        },
        "id": "XUmNfGLSj3y9",
        "outputId": "cda7c8c3-7ff3-49a0-8d56-1c9c1fb4126c"
      },
      "execution_count": 5,
      "outputs": [
        {
          "output_type": "stream",
          "name": "stdout",
          "text": [
            "07_get_list\n",
            "Enter a value (or 'q' to quit): d\n",
            "Here is the list: ['d']\n",
            "Enter a value to add to the list (or 'q' to quit): f\n",
            "Here is the list: ['d', 'f']\n",
            "Enter a value to add to the list (or 'q' to quit): q\n",
            "Final list: ['d', 'f']\n"
          ]
        }
      ]
    },
    {
      "cell_type": "code",
      "source": [
        "print(\"08_shorten_list\")\n",
        "\n",
        "MAX_LENGTH: int = 3  # Maximum allowed length of list\n",
        "\n",
        "def shorten(lst):\n",
        "    while len(lst) > MAX_LENGTH:  # Reduce list to MAX_LENGTH\n",
        "        last_element = lst.pop()  # Remove last element\n",
        "        print(\"Removed:\", last_element)  # Show removed element\n",
        "\n",
        "def get_list():\n",
        "    lst = []  # Initialize an empty list\n",
        "    element = input(\"Enter an element to add to the list (or 'q' to quit): \")\n",
        "\n",
        "    while element.lower() != \"q\":\n",
        "        lst.append(element)  # Append element to list\n",
        "        print(\"Here is the list:\", lst)\n",
        "        element = input(\"Enter an element to add to the list (or 'q' to quit): \")\n",
        "\n",
        "    return lst  # Return final list\n",
        "\n",
        "def main():\n",
        "    lst = get_list()  # Get user input list\n",
        "    print(\"Original list:\", lst)\n",
        "    shorten(lst)  # Reduce list size\n",
        "    print(\"Shortened list:\", lst)\n",
        "\n",
        "if __name__ == \"__main__\":\n",
        "    main()\n"
      ],
      "metadata": {
        "colab": {
          "base_uri": "https://localhost:8080/"
        },
        "id": "EOZX1-C8q7n2",
        "outputId": "1a7c4cfb-aa1d-4d95-e0f8-b6d7948fbdb5"
      },
      "execution_count": 2,
      "outputs": [
        {
          "output_type": "stream",
          "name": "stdout",
          "text": [
            "08_shorten_list\n",
            "Enter an element to add to the list (or 'q' to quit): s\n",
            "Here is the list: ['s']\n",
            "Enter an element to add to the list (or 'q' to quit): g\n",
            "Here is the list: ['s', 'g']\n",
            "Enter an element to add to the list (or 'q' to quit): t\n",
            "Here is the list: ['s', 'g', 't']\n",
            "Enter an element to add to the list (or 'q' to quit): q\n",
            "Original list: ['s', 'g', 't']\n",
            "Shortened list: ['s', 'g', 't']\n"
          ]
        }
      ]
    }
  ]
}